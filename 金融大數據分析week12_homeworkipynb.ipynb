{
  "nbformat": 4,
  "nbformat_minor": 0,
  "metadata": {
    "colab": {
      "provenance": []
    },
    "kernelspec": {
      "name": "python3",
      "display_name": "Python 3"
    },
    "language_info": {
      "name": "python"
    }
  },
  "cells": [
    {
      "cell_type": "code",
      "execution_count": 1,
      "metadata": {
        "colab": {
          "base_uri": "https://localhost:8080/"
        },
        "id": "bZM74I4koIsB",
        "outputId": "622b617b-0500-43fe-e1ff-0e1c5ea7f41e"
      },
      "outputs": [
        {
          "output_type": "stream",
          "name": "stdout",
          "text": [
            "Requirement already satisfied: yfinance in /usr/local/lib/python3.10/dist-packages (0.2.50)\n",
            "Collecting newsapi-python\n",
            "  Downloading newsapi_python-0.2.7-py2.py3-none-any.whl.metadata (1.2 kB)\n",
            "Requirement already satisfied: pandas in /usr/local/lib/python3.10/dist-packages (2.2.2)\n",
            "Requirement already satisfied: matplotlib in /usr/local/lib/python3.10/dist-packages (3.8.0)\n",
            "Requirement already satisfied: numpy in /usr/local/lib/python3.10/dist-packages (1.26.4)\n",
            "Requirement already satisfied: requests>=2.31 in /usr/local/lib/python3.10/dist-packages (from yfinance) (2.32.3)\n",
            "Requirement already satisfied: multitasking>=0.0.7 in /usr/local/lib/python3.10/dist-packages (from yfinance) (0.0.11)\n",
            "Requirement already satisfied: lxml>=4.9.1 in /usr/local/lib/python3.10/dist-packages (from yfinance) (5.3.0)\n",
            "Requirement already satisfied: platformdirs>=2.0.0 in /usr/local/lib/python3.10/dist-packages (from yfinance) (4.3.6)\n",
            "Requirement already satisfied: pytz>=2022.5 in /usr/local/lib/python3.10/dist-packages (from yfinance) (2024.2)\n",
            "Requirement already satisfied: frozendict>=2.3.4 in /usr/local/lib/python3.10/dist-packages (from yfinance) (2.4.6)\n",
            "Requirement already satisfied: peewee>=3.16.2 in /usr/local/lib/python3.10/dist-packages (from yfinance) (3.17.8)\n",
            "Requirement already satisfied: beautifulsoup4>=4.11.1 in /usr/local/lib/python3.10/dist-packages (from yfinance) (4.12.3)\n",
            "Requirement already satisfied: html5lib>=1.1 in /usr/local/lib/python3.10/dist-packages (from yfinance) (1.1)\n",
            "Requirement already satisfied: python-dateutil>=2.8.2 in /usr/local/lib/python3.10/dist-packages (from pandas) (2.8.2)\n",
            "Requirement already satisfied: tzdata>=2022.7 in /usr/local/lib/python3.10/dist-packages (from pandas) (2024.2)\n",
            "Requirement already satisfied: contourpy>=1.0.1 in /usr/local/lib/python3.10/dist-packages (from matplotlib) (1.3.1)\n",
            "Requirement already satisfied: cycler>=0.10 in /usr/local/lib/python3.10/dist-packages (from matplotlib) (0.12.1)\n",
            "Requirement already satisfied: fonttools>=4.22.0 in /usr/local/lib/python3.10/dist-packages (from matplotlib) (4.55.3)\n",
            "Requirement already satisfied: kiwisolver>=1.0.1 in /usr/local/lib/python3.10/dist-packages (from matplotlib) (1.4.7)\n",
            "Requirement already satisfied: packaging>=20.0 in /usr/local/lib/python3.10/dist-packages (from matplotlib) (24.2)\n",
            "Requirement already satisfied: pillow>=6.2.0 in /usr/local/lib/python3.10/dist-packages (from matplotlib) (11.0.0)\n",
            "Requirement already satisfied: pyparsing>=2.3.1 in /usr/local/lib/python3.10/dist-packages (from matplotlib) (3.2.0)\n",
            "Requirement already satisfied: soupsieve>1.2 in /usr/local/lib/python3.10/dist-packages (from beautifulsoup4>=4.11.1->yfinance) (2.6)\n",
            "Requirement already satisfied: six>=1.9 in /usr/local/lib/python3.10/dist-packages (from html5lib>=1.1->yfinance) (1.17.0)\n",
            "Requirement already satisfied: webencodings in /usr/local/lib/python3.10/dist-packages (from html5lib>=1.1->yfinance) (0.5.1)\n",
            "Requirement already satisfied: charset-normalizer<4,>=2 in /usr/local/lib/python3.10/dist-packages (from requests>=2.31->yfinance) (3.4.0)\n",
            "Requirement already satisfied: idna<4,>=2.5 in /usr/local/lib/python3.10/dist-packages (from requests>=2.31->yfinance) (3.10)\n",
            "Requirement already satisfied: urllib3<3,>=1.21.1 in /usr/local/lib/python3.10/dist-packages (from requests>=2.31->yfinance) (2.2.3)\n",
            "Requirement already satisfied: certifi>=2017.4.17 in /usr/local/lib/python3.10/dist-packages (from requests>=2.31->yfinance) (2024.12.14)\n",
            "Downloading newsapi_python-0.2.7-py2.py3-none-any.whl (7.9 kB)\n",
            "Installing collected packages: newsapi-python\n",
            "Successfully installed newsapi-python-0.2.7\n"
          ]
        }
      ],
      "source": [
        "pip install yfinance newsapi-python pandas matplotlib numpy\n"
      ]
    },
    {
      "cell_type": "code",
      "source": [
        "import yfinance as yf\n",
        "import google.generativeai as genai\n",
        "import pandas as pd\n",
        "\n",
        "# 配置 Gemini API\n",
        "api_key = \"APIKEY 藏起來\"\n",
        "genai.configure(api_key=api_key)\n",
        "model = genai.GenerativeModel(\"gemini-1.5-flash\")\n",
        "\n",
        "# 定義函數來獲取台積電的股價資料\n",
        "def get_tsmc_stock_data():\n",
        "    ticker = \"2330.TW\"  # 台積電在 Yahoo Finance 的代碼\n",
        "    stock_data = yf.download(ticker, period=\"1mo\", interval=\"1d\")\n",
        "    stock_data.reset_index(inplace=True)\n",
        "    stock_data = stock_data[[\"Date\", \"Open\", \"High\", \"Low\", \"Close\", \"Volume\"]]\n",
        "    stock_data[\"Date\"] = stock_data[\"Date\"].dt.strftime('%Y-%m-%d')  # 格式化日期\n",
        "    stock_data[\"5_MA\"] = stock_data[\"Close\"].rolling(window=5).mean()\n",
        "    stock_data[\"10_MA\"] = stock_data[\"Close\"].rolling(window=10).mean()\n",
        "    stock_data[\"20_MA\"] = stock_data[\"Close\"].rolling(window=20).mean()\n",
        "    return stock_data\n",
        "\n",
        "# 定義函數將股價數據發送到 Gemini API 並獲取分析報告\n",
        "def generate_gemini_report(stock_data):\n",
        "    prompt = (\n",
        "        \"Generate a professional stock analysis report based on the following data: \\n\"\n",
        "        f\"{stock_data.to_string(index=False)}\"\n",
        "    )\n",
        "    response = model.generate_content(prompt)\n",
        "    return response.text\n",
        "\n",
        "# 主程式執行邏輯\n",
        "def main():\n",
        "    print(\"正在獲取台積電股價資料...\")\n",
        "    stock_data = get_tsmc_stock_data()\n",
        "\n",
        "    print(\"正在生成股票分析報告...\")\n",
        "    try:\n",
        "        report = generate_gemini_report(stock_data)\n",
        "        print(\"股票分析報告:\")\n",
        "        print(report)\n",
        "    except Exception as e:\n",
        "        print(f\"發生錯誤: {e}\")\n",
        "\n",
        "if __name__ == \"__main__\":\n",
        "    main()"
      ],
      "metadata": {
        "colab": {
          "base_uri": "https://localhost:8080/",
          "height": 1000
        },
        "id": "yh_-uLHUWmFv",
        "outputId": "ed276063-9dbc-4171-f3c0-10ad1599990f"
      },
      "execution_count": 5,
      "outputs": [
        {
          "output_type": "stream",
          "name": "stderr",
          "text": [
            "\r[*********************100%***********************]  1 of 1 completed"
          ]
        },
        {
          "output_type": "stream",
          "name": "stdout",
          "text": [
            "正在獲取台積電股價資料...\n",
            "正在生成股票分析報告...\n"
          ]
        },
        {
          "output_type": "stream",
          "name": "stderr",
          "text": [
            "\n"
          ]
        },
        {
          "output_type": "stream",
          "name": "stdout",
          "text": [
            "股票分析報告:\n",
            "**Stock Analysis Report: 2330.TW**\n",
            "\n",
            "**Date:** January 6, 2025\n",
            "\n",
            "**Subject:** Preliminary Analysis of 2330.TW Stock Performance\n",
            "\n",
            "\n",
            "**1. Executive Summary:**\n",
            "\n",
            "This report provides a preliminary analysis of 2330.TW stock performance based on the provided data from December 6, 2024, to January 6, 2025. The stock shows some volatility but a generally upward trend over the period.  Further analysis with a longer dataset and incorporation of fundamental data is needed for a comprehensive evaluation.\n",
            "\n",
            "**2. Data Overview:**\n",
            "\n",
            "The data encompasses daily open, high, low, and closing prices, trading volume, and moving averages (5-day, 10-day, and 20-day).  The inclusion of moving averages allows for a basic assessment of short-term and medium-term price trends.  Note that the longer-term moving averages (10 and 20 day) are only fully populated from December 19th onwards.\n",
            "\n",
            "\n",
            "**3. Price Trend Analysis:**\n",
            "\n",
            "* **Short-Term (5-day MA):** The 5-day moving average shows a generally upward trend, suggesting positive short-term momentum.\n",
            "* **Medium-Term (10-day MA):** The 10-day moving average reveals a similar upward trend, reinforcing the positive short-term momentum and suggesting potential for continued growth.\n",
            "* **Long-Term (20-day MA):**  The 20-day moving average is available from January 3rd onwards and demonstrates a gradually upward trend, indicating a positive long-term outlook (at this preliminary stage).\n",
            "* **Overall:** While experiencing some daily fluctuations, the stock exhibits a net positive price movement from the beginning of the observation period. The recent price surge from 1035.0 to 1110.0 deserves attention and requires more investigation for underlying causes.\n",
            "\n",
            "**4. Volume Analysis:**\n",
            "\n",
            "Trading volume fluctuates considerably over the analyzed period.  Higher volume around certain price drops (e.g., December 20th) suggests potentially increased selling pressure during periods of price correction.  Conversely, high volume associated with upward price movements (e.g., December 16th and January 6th) could indicate strong buying interest. However, this conclusion needs verification with further data analysis.\n",
            "\n",
            "**5. Moving Average Convergence/Divergence (MACD - Implicit):**\n",
            "\n",
            "While not explicitly calculated, the data suggests a potential bullish signal implied by the relationship between the 5-day and 10-day moving averages.  The 5-day MA consistently remained above the 10-day MA during the final period, which could indicate bullish momentum, but this is a preliminary observation and requires confirmation.\n",
            "\n",
            "**6. Limitations:**\n",
            "\n",
            "* **Short Data Period:** The analysis is based on a relatively short observation period, which limits the reliability of long-term projections.  A longer dataset would significantly improve the accuracy of the analysis.\n",
            "* **Lack of Fundamental Data:** The analysis lacks fundamental data (e.g., earnings reports, financial statements, industry trends, and news). This limits the ability to assess intrinsic value and provide a full valuation.\n",
            "* **No Statistical Testing:** No statistical tests have been performed to determine the significance of observed trends.\n",
            "\n",
            "\n",
            "**7. Recommendations:**\n",
            "\n",
            "This preliminary analysis suggests a potential for further upward price movement.  However, further investigation is required.  To make a fully informed investment decision, additional data and factors should be considered, including:\n",
            "\n",
            "* **Extended Data Period:** Analyzing a much larger dataset covering several months or years.\n",
            "* **Fundamental Analysis:** Investigating the company's financials, industry position, competitive landscape, and news.\n",
            "* **Technical Indicators:** Employing additional technical indicators (MACD, RSI, Bollinger Bands, etc.) to corroborate the findings.\n",
            "* **Risk Assessment:** A comprehensive risk assessment should be performed before any investment decision.\n",
            "\n",
            "\n",
            "**8. Disclaimer:**\n",
            "\n",
            "This report is for informational purposes only and should not be considered investment advice.  Investing in the stock market involves significant risks, and potential investors should conduct their own due diligence before making any investment decisions.\n",
            "\n"
          ]
        }
      ]
    }
  ]
}